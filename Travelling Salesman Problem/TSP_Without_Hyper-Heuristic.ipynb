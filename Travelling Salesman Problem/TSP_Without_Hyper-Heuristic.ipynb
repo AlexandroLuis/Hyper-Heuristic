{
  "cells": [
    {
      "cell_type": "markdown",
      "metadata": {
        "id": "v7gamt7RDxET"
      },
      "source": [
        "#Import"
      ]
    },
    {
      "cell_type": "code",
      "execution_count": null,
      "metadata": {
        "id": "qrf2G83nPJOj"
      },
      "outputs": [],
      "source": [
        "!pip install jmetalpy\n",
        "!pip install scipy\n",
        "\n",
        "import os\n",
        "import shutil\n",
        "\n",
        "try:\n",
        "  os.mkdir(\"/content/problems/\")\n",
        "except:\n",
        "  pass\n",
        "\n",
        "# Download instances from a google drive folder\n",
        "!gdown --id 1SGG56x8kgi9s5aAYwWn0cfcUz-IWFeqS\n",
        "\n",
        "# Unpack it\n",
        "os.replace(\"/content/instances.zip\", \"/content/problems/instances.zip\")\n",
        "shutil.unpack_archive(\"/content/problems/instances.zip\", \"/content/problems/\")\n",
        "os.remove(\"/content/problems/instances.zip\")"
      ]
    },
    {
      "cell_type": "code",
      "execution_count": 2,
      "metadata": {
        "id": "zP1M0VvPDweV",
        "colab": {
          "base_uri": "https://localhost:8080/"
        },
        "outputId": "677cf650-bdf2-4d2d-d6a3-55c4d510c5b4"
      },
      "outputs": [
        {
          "output_type": "stream",
          "name": "stderr",
          "text": [
            "/usr/local/lib/python3.7/dist-packages/statsmodels/tools/_testing.py:19: FutureWarning: pandas.util.testing is deprecated. Use the functions in the public API at pandas.testing instead.\n",
            "  import pandas.util.testing as tm\n"
          ]
        }
      ],
      "source": [
        "import math\n",
        "import random\n",
        "import re\n",
        "import json\n",
        "import os\n",
        "import time\n",
        "\n",
        "import pandas as pd\n",
        "import matplotlib.pyplot as plt\n",
        "from pathlib import Path\n",
        "\n",
        "import threading\n",
        "from threading import Thread\n",
        "\n",
        "import jmetal\n",
        "\n",
        "\n",
        "# single objective problem - GeneticAlgorithm\n",
        "from jmetal.algorithm.singleobjective.genetic_algorithm import GeneticAlgorithm\n",
        "\n",
        "#operator\n",
        "from jmetal.operator.mutation import PermutationSwapMutation,PolynomialMutation\n",
        "from jmetal.operator.crossover import PMXCrossover\n",
        "from jmetal.operator import BinaryTournamentSelection, BestSolutionSelection\n",
        "\n",
        "# util\n",
        "from jmetal.util.comparator import MultiComparator\n",
        "from jmetal.util.ranking import StrengthRanking\n",
        "from jmetal.util.density_estimator import KNearestNeighborDensityEstimator\n",
        "from jmetal.util import termination_criterion\n",
        "from jmetal.util.observer import ProgressBarObserver\n",
        "from jmetal.util.solution import get_non_dominated_solutions\n",
        "from jmetal.util.termination_criterion import StoppingByEvaluations\n",
        "\n",
        "#core\n",
        "from jmetal.core.quality_indicator import *\n",
        "from jmetal.core.problem import PermutationProblem\n",
        "from jmetal.core.solution import PermutationSolution, Solution\n",
        "\n",
        "#lab\n",
        "from jmetal.lab.experiment import Experiment, Job, generate_summary_from_experiment\n",
        "\n",
        "# scipy - statistics test\n",
        "import scipy\n",
        "from scipy import stats\n",
        "from scipy.stats import wilcoxon, ranksums\n",
        "\n"
      ]
    },
    {
      "cell_type": "markdown",
      "metadata": {
        "id": "xSNgNhQmD0IE"
      },
      "source": [
        "#Read Files"
      ]
    },
    {
      "cell_type": "code",
      "execution_count": 3,
      "metadata": {
        "id": "Z2ReeTRNGr8M"
      },
      "outputs": [],
      "source": [
        "def read_tsplib_file(filename):\n",
        "    if filename is None:\n",
        "        raise FileNotFoundError('Filename can not be None')\n",
        "    with open(filename) as file:\n",
        "        lines = file.readlines()\n",
        "        data = [line.lstrip() for line in lines if line != \"\"]\n",
        "        dimension = re.compile(r'[^\\d]+')\n",
        "        for item in data:\n",
        "            if item.startswith('DIMENSION'):\n",
        "                dimension = int(dimension.sub('', item))\n",
        "                break\n",
        "        c = [-1.0] * (2 * dimension)\n",
        "        cities_coord = []\n",
        "        for item in data:\n",
        "            if item[0].isdigit():\n",
        "                j, coordX, coordY = [float(x.strip()) for x in item.split(' ')]\n",
        "                c[2 * (int(j) - 1)] = coordX\n",
        "                c[2 * (int(j) - 1) + 1] = coordY\n",
        "                cities_coord.append([coordX,coordY])\n",
        "        cities = pd.DataFrame(cities_coord)\n",
        "        matrix = [[-1] * dimension for _ in range(dimension)]\n",
        "        for k in range(dimension):\n",
        "            matrix[k][k] = 0\n",
        "            for j in range(k + 1, dimension):\n",
        "                dist = math.sqrt((c[k * 2] - c[j * 2]) ** 2 + (c[k * 2 + 1] - c[j * 2 + 1]) ** 2)\n",
        "                dist = round(dist)\n",
        "                matrix[k][j] = dist\n",
        "                matrix[j][k] = dist\n",
        "        return matrix, dimension, cities"
      ]
    },
    {
      "cell_type": "markdown",
      "metadata": {
        "id": "CUYZijUQGxLD"
      },
      "source": [
        "#TSP"
      ]
    },
    {
      "cell_type": "code",
      "execution_count": 4,
      "metadata": {
        "id": "ge1jW6X3GzZi"
      },
      "outputs": [],
      "source": [
        "class myTSP(PermutationProblem):\n",
        "    def __init__(self, distance_matrix, number_of_cities, fitness_log):\n",
        "        super(myTSP, self).__init__()\n",
        "        self.distance_matrix = distance_matrix\n",
        "        self.number_of_variables = number_of_cities\n",
        "        self.obj_directions = [self.MINIMIZE]\n",
        "        self.number_of_objectives = 1\n",
        "        self.number_of_constraints = 0\n",
        "        self.fitness_log = fitness_log\n",
        "        \n",
        "    def evaluate(self, solution: PermutationSolution) -> PermutationSolution:\n",
        "        fitness = 0\n",
        "        for i in range(self.number_of_variables - 1):\n",
        "            x = solution.variables[i]\n",
        "            y = solution.variables[i + 1]\n",
        "            fitness += self.distance_matrix[x][y]\n",
        "        first_city, last_city = solution.variables[0], solution.variables[-1]\n",
        "        fitness += self.distance_matrix[first_city][last_city]\n",
        "        solution.objectives[0] = fitness\n",
        "        self.fitness_log.append(fitness)\n",
        "        return solution\n",
        "    \n",
        "    def create_solution(self) -> PermutationSolution:\n",
        "        new_solution = PermutationSolution(number_of_variables=self.number_of_variables,\n",
        "                                           number_of_objectives=self.number_of_objectives)\n",
        "        new_solution.variables = random.sample(range(self.number_of_variables), k=self.number_of_variables)\n",
        "        return new_solution\n",
        "\n",
        "    @property\n",
        "    def number_of_cities(self):\n",
        "        return self.number_of_variables\n",
        "\n",
        "    def get_name(self):\n",
        "        return 'Symmetric TSP'"
      ]
    },
    {
      "cell_type": "markdown",
      "metadata": {
        "id": "MtlGIZ59G-T6"
      },
      "source": [
        "#Problem"
      ]
    },
    {
      "cell_type": "code",
      "execution_count": 5,
      "metadata": {
        "id": "-YIF0o7yG_5T"
      },
      "outputs": [],
      "source": [
        "class problem():\n",
        "  def __init__(self, j):\n",
        "        self.problem_name = j\n",
        "        self.optimal_fitness = 0000\n",
        "        self.location = \"/content/problems/\"+j\n",
        "        self.dist_matrix, self.nb_cities, self.cities_coord = read_tsplib_file(self.location)\n",
        "\n",
        "  def myProblem(self, fitness_log): \n",
        "    return myTSP(self.dist_matrix, self.nb_cities, fitness_log)\n",
        "\n",
        "  def getProblemName(self):\n",
        "    return self.problem_name\n",
        "\n",
        "  def getOptimalFitness(self):\n",
        "    return self.optimal_fitness\n",
        "  \n",
        "  def getCityCoord(self):\n",
        "    return self.cities_coord"
      ]
    },
    {
      "cell_type": "markdown",
      "source": [
        "#Heuristics"
      ],
      "metadata": {
        "id": "ldgL_Qt9rzMt"
      }
    },
    {
      "cell_type": "code",
      "source": [
        "'''\n",
        "  Start the LKH algorithm with the current tour.\n",
        "'''\n",
        "#http://akira.ruc.dk/~keld/research/LKH/LKH-1.3/DOC/LKH_REPORT.pdf\n",
        "\n",
        "class LKH_Heuristic():\n",
        "  def __init__(self, result):\n",
        "    self.tour = result.variables\n",
        "    pass\n",
        "\n",
        "  def execution():\n",
        "    \n"
      ],
      "metadata": {
        "id": "rupbt9CDr1PL"
      },
      "execution_count": null,
      "outputs": []
    },
    {
      "cell_type": "markdown",
      "metadata": {
        "id": "L1ea6r46G38S"
      },
      "source": [
        "#Save To File"
      ]
    },
    {
      "cell_type": "code",
      "source": [
        "class outputFile():\n",
        "  def __init__(self, my_algo, pop_evolved, log, params, i, maxevals, j):\n",
        "    self.algorithm_name = my_algo.get_name()\n",
        "    self.solution_x = pop_evolved.variables\n",
        "    self.fitness = pop_evolved.objectives[0]\n",
        "    self.n_evals = my_algo.evaluations\n",
        "    self.duration = my_algo.total_computing_time\n",
        "    self.lensolution = self.solution_x\n",
        "    self.params = params\n",
        "    self.i = i\n",
        "    self.maxevals = maxevals\n",
        "    self.d = {}\n",
        "    self.j = j\n",
        "    self.path = \"\"\n",
        "\n",
        "  def create_output_file(self):\n",
        "    x = problem(self.j)\n",
        "\n",
        "    self.d['Function'] = x.getProblemName()\n",
        "    self.d['Problem dimension'] = self.lensolution\n",
        "    self.d['Global Optimum'] = x.getOptimalFitness()\n",
        "    self.d['Algorithm'] = self.algorithm_name\n",
        "    self.d['Parameters'] = self.params\n",
        "    self.d['Fitness'] = self.fitness\n",
        "    self.d['Solution'] = self.solution_x\n",
        "    self.d['Nb of functions evaluations'] = self.n_evals\n",
        "    self.d['Computational time in seconds'] = self.duration\n",
        "    self.d['Stopping criterion in evaluations'] = self.maxevals\n",
        "\n",
        "    self.calltosave()\n",
        "\n",
        "  def calltosave(self):\n",
        "    try:\n",
        "      self.x = problem(self.j)\n",
        "      filename = \"output\"\n",
        "      filename2 = self.x.getProblemName()\n",
        "      self.path = os.path.join(filename, filename2)\n",
        "      Path(self.path).mkdir(parents=True, exist_ok=True)     \n",
        "    except:\n",
        "      pass\n",
        "\n",
        "    try:\n",
        "      runs_output = \"runs_output\"\n",
        "      with open(\"%s/%s_TSP.txt\" %(self.path, self.i), 'w', encoding='utf-8') as f:\n",
        "        f.write(\"\"+self.i+\"° run output:\\n\")\n",
        "        json.dump(self.d, f, indent=4, separators=(',',': '))\n",
        "      f.close()\n",
        "    except Exception as e:\n",
        "      print(e)\n",
        "  \n",
        "  def outputFitness(self, fitness, i):\n",
        "    fun_output = \"fun_output\"\n",
        "    try:\n",
        "      with open(\"%s/fitnessOutput.FUN\" %(self.path), 'w', encoding='utf-8') as f:\n",
        "        f.write('\\n'.join(str(line) for line in fitness))\n",
        "      f.close()\n",
        "    except Exception as e:\n",
        "      print(e)\n",
        "\n",
        "  def getFitness(self):\n",
        "    return self.fitness\n",
        "  \n",
        "  def outputAllFitness(self, output_result, i):\n",
        "    var_output = \"var_output\"\n",
        "    try:\n",
        "      try:\n",
        "        if i == 0:\n",
        "          # Clean the file \n",
        "          with open(\"%s/routeOutput.VAR\" %(self.path), 'w', encoding='utf-8') as f:\n",
        "            f.close()\n",
        "      except:\n",
        "        pass\n",
        "      # Rewrite non deleting written text\n",
        "      with open(\"%s/routeOutput.VAR\" %(self.path), 'a', encoding='utf-8') as f:\n",
        "        f.write(str(output_result))\n",
        "        f.write('\\n')\n",
        "      f.close()  \n",
        "    except Exception as e:\n",
        "      print(e)\n"
      ],
      "metadata": {
        "id": "nhAejGIt2hI1"
      },
      "execution_count": 6,
      "outputs": []
    },
    {
      "cell_type": "markdown",
      "metadata": {
        "id": "bCtoiv2NJdNo"
      },
      "source": [
        "#Output"
      ]
    },
    {
      "cell_type": "code",
      "execution_count": 7,
      "metadata": {
        "id": "zi81GlyZ3BVb"
      },
      "outputs": [],
      "source": [
        "#Last Element Output\n",
        "class lastOutput():\n",
        "  def __init__(self, fitness_log, result, run):\n",
        "        self.fitness_log = fitness_log\n",
        "        self.result = result\n",
        "        self.runs = 1\n",
        "\n",
        "  # print graph\n",
        "  def plotMap(self):\n",
        "    plt.figure(figsize=(15,4))\n",
        "    plt.plot(self.fitness_log[::1000], color=\"red\")\n",
        "    plt.xlabel(\"evaluations (x1000)\")\n",
        "    plt.ylabel(\"fitness\")\n",
        "    plt.show()\n",
        "\n",
        "  # print map\n",
        "  def printMap(self):\n",
        "    cities_coord = problem().getCityCoord()\n",
        "    xlist = [cities_coord.iloc[i,0] for i in self.result.variables]\n",
        "    ylist = [cities_coord.iloc[i,1] for i in self.result.variables]\n",
        "\n",
        "    xlist.append(xlist[0])\n",
        "    ylist.append(ylist[0])\n",
        "\n",
        "    plt.figure(figsize=(20,10))\n",
        "    for idx,city in enumerate(cities_coord.values):\n",
        "      plt.scatter(city[0],city[1])\n",
        "      plt.text(city[0]-20, city[1]+40, str(idx), fontsize=10)\n",
        "\n",
        "    plt.plot(xlist, ylist, color=\"purple\",linestyle='-')\n",
        "    plt.plot(xlist, ylist, linestyle='-')\n",
        "    plt.axis('scaled')\n",
        "    plt.show()\n",
        "\n",
        "  #run all functions\n",
        "  def getResults(self):\n",
        "    if __name__ == '__main__':\n",
        "      self.plotMap()\n",
        "      self.printMap()"
      ]
    },
    {
      "cell_type": "code",
      "source": [
        "class bcolors:\n",
        "  OKGREEN = '\\033[32m'\n",
        "  WARNING = '\\033[31m'\n",
        "  LightBl = \"\\033[94m\"\n",
        "  ENDC = '\\033[0m'"
      ],
      "metadata": {
        "id": "MnjteAfdF7uN"
      },
      "execution_count": 8,
      "outputs": []
    },
    {
      "cell_type": "markdown",
      "metadata": {
        "id": "hSp9y95sHDqa"
      },
      "source": [
        "#Problem Execution"
      ]
    },
    {
      "cell_type": "code",
      "execution_count": 9,
      "metadata": {
        "id": "4ieDfaFWHIg8"
      },
      "outputs": [],
      "source": [
        "class Main():\n",
        "  def __init__(self, maxevals, popsize, offspring, mut_prob, cross_prob, runs):\n",
        "    self.maxevals = maxevals\n",
        "    self.popsize = popsize\n",
        "    self.offspring = offspring\n",
        "    self.mut_prob = mut_prob\n",
        "    self.cross_prob = cross_prob\n",
        "    self.run = runs\n",
        "    self.fitness_log = []\n",
        "    self.fitness = []\n",
        "\n",
        "  def start(self):\n",
        "    for self.j in os.listdir('/content/problems/'):\n",
        "      if self.j == \".ipynb_checkpoints\":\n",
        "        pass\n",
        "      else:\n",
        "        print(f\"{bcolors.WARNING}\\nNow Running: {self.j}{bcolors.ENDC}\\n\")\n",
        "        for self.i in range(self.run):\n",
        "          print(f\"{bcolors.OKGREEN}\\nrun {self.i+1}{bcolors.ENDC}\")\n",
        "          self.execute()\n",
        "        print(\"\\n\")\n",
        "        print(f\"{bcolors.LightBl}-{bcolors.ENDC}\"*40)\n",
        "        self.x.outputFitness(self.fitness, self.i)\n",
        "        self.fitness.clear()\n",
        "      #self.output()\n",
        "        \n",
        "    \n",
        "  def execute(self):\n",
        "    # Selection\n",
        "    select = BinaryTournamentSelection(\n",
        "\t  \t\t  \t\tMultiComparator([StrengthRanking.get_comparator(),\n",
        "\t\t  \t\t  \t\t\t\t\t KNearestNeighborDensityEstimator.get_comparator()]\n",
        "\t\t\t  \t  \t\t\t\t   ))\n",
        "\n",
        "    # Termination criteria\n",
        "    termin = termination_criterion.StoppingByEvaluations(max_evaluations=maxevals)\n",
        "\n",
        "    # AG algorithm\n",
        "    algorithm = GeneticAlgorithm(\n",
        "      problem=problem(self.j).myProblem(self.fitness_log),\n",
        "      population_size=popsize,\n",
        "      offspring_population_size=offspring,\n",
        "      mutation=PermutationSwapMutation(mut_prob), \n",
        "      crossover=PMXCrossover(cross_prob),\n",
        "      selection=select,\n",
        "      termination_criterion=termin,\n",
        "    )\n",
        "\n",
        "    params = {\n",
        "              'population': popsize, \n",
        "  \t          'offspring': offspring, \n",
        "\t            'mutation probability': mut_prob, \n",
        "\t\t          'crossover probability': cross_prob,\n",
        "  \t\t  }\n",
        "\n",
        "    # Call GeneticAlgorithm and execute it #\n",
        "    algorithm.observable.register(ProgressBarObserver(max=maxevals))\n",
        "    algorithm.run()\n",
        "\n",
        "    self.result = algorithm.get_result()\n",
        "\n",
        "    #self.heuristic = LKH_Heuristic(self.result).execution()\n",
        "    \n",
        "    self.x = outputFile(algorithm, self.result, self.fitness_log, params, str(self.i+1), self.maxevals, self.j)\n",
        "    self.x.create_output_file()\n",
        "    self.fitness.append(self.x.getFitness())\n",
        "    self.x.outputAllFitness(self.result.variables, self.i)\n",
        "\n",
        "    #self.fitness_log.clear()\n",
        "\n",
        "  def output(self):    \n",
        "    call = lastOutput(self.fitness_log, self.result, self.run)#.getResults()\n",
        "    call.plotMap()\n",
        "    call.printMap()\n",
        "                                                                                "
      ]
    },
    {
      "cell_type": "markdown",
      "metadata": {
        "id": "LZ9UJaDTHHhs"
      },
      "source": [
        "#RUN"
      ]
    },
    {
      "cell_type": "code",
      "execution_count": 10,
      "metadata": {
        "colab": {
          "base_uri": "https://localhost:8080/"
        },
        "id": "fKl3U0bQqnzt",
        "outputId": "bd01b45d-e828-422e-e191-ff95fad2a851"
      },
      "outputs": [
        {
          "output_type": "stream",
          "name": "stdout",
          "text": [
            "\u001b[31m\n",
            "Now Running: kroA100.tsp\u001b[0m\n",
            "\n",
            "\u001b[32m\n",
            "run 1\u001b[0m\n"
          ]
        },
        {
          "output_type": "stream",
          "name": "stderr",
          "text": [
            "Progress: 200200it [01:31, 2193.16it/s]\n"
          ]
        },
        {
          "output_type": "stream",
          "name": "stdout",
          "text": [
            "\u001b[32m\n",
            "run 2\u001b[0m\n"
          ]
        },
        {
          "output_type": "stream",
          "name": "stderr",
          "text": [
            "Progress: 200200it [01:31, 2190.52it/s]\n"
          ]
        },
        {
          "output_type": "stream",
          "name": "stdout",
          "text": [
            "\n",
            "\n",
            "\u001b[94m-\u001b[0m\u001b[94m-\u001b[0m\u001b[94m-\u001b[0m\u001b[94m-\u001b[0m\u001b[94m-\u001b[0m\u001b[94m-\u001b[0m\u001b[94m-\u001b[0m\u001b[94m-\u001b[0m\u001b[94m-\u001b[0m\u001b[94m-\u001b[0m\u001b[94m-\u001b[0m\u001b[94m-\u001b[0m\u001b[94m-\u001b[0m\u001b[94m-\u001b[0m\u001b[94m-\u001b[0m\u001b[94m-\u001b[0m\u001b[94m-\u001b[0m\u001b[94m-\u001b[0m\u001b[94m-\u001b[0m\u001b[94m-\u001b[0m\u001b[94m-\u001b[0m\u001b[94m-\u001b[0m\u001b[94m-\u001b[0m\u001b[94m-\u001b[0m\u001b[94m-\u001b[0m\u001b[94m-\u001b[0m\u001b[94m-\u001b[0m\u001b[94m-\u001b[0m\u001b[94m-\u001b[0m\u001b[94m-\u001b[0m\u001b[94m-\u001b[0m\u001b[94m-\u001b[0m\u001b[94m-\u001b[0m\u001b[94m-\u001b[0m\u001b[94m-\u001b[0m\u001b[94m-\u001b[0m\u001b[94m-\u001b[0m\u001b[94m-\u001b[0m\u001b[94m-\u001b[0m\u001b[94m-\u001b[0m\n",
            "\u001b[31m\n",
            "Now Running: dj38.tsp\u001b[0m\n",
            "\n",
            "\u001b[32m\n",
            "run 1\u001b[0m\n"
          ]
        },
        {
          "output_type": "stream",
          "name": "stderr",
          "text": [
            "Progress: 200200it [00:29, 6880.24it/s]\n"
          ]
        },
        {
          "output_type": "stream",
          "name": "stdout",
          "text": [
            "\u001b[32m\n",
            "run 2\u001b[0m\n"
          ]
        },
        {
          "output_type": "stream",
          "name": "stderr",
          "text": [
            "Progress: 200200it [00:29, 6895.59it/s]                            \n"
          ]
        },
        {
          "output_type": "stream",
          "name": "stdout",
          "text": [
            "\n",
            "\n",
            "\u001b[94m-\u001b[0m\u001b[94m-\u001b[0m\u001b[94m-\u001b[0m\u001b[94m-\u001b[0m\u001b[94m-\u001b[0m\u001b[94m-\u001b[0m\u001b[94m-\u001b[0m\u001b[94m-\u001b[0m\u001b[94m-\u001b[0m\u001b[94m-\u001b[0m\u001b[94m-\u001b[0m\u001b[94m-\u001b[0m\u001b[94m-\u001b[0m\u001b[94m-\u001b[0m\u001b[94m-\u001b[0m\u001b[94m-\u001b[0m\u001b[94m-\u001b[0m\u001b[94m-\u001b[0m\u001b[94m-\u001b[0m\u001b[94m-\u001b[0m\u001b[94m-\u001b[0m\u001b[94m-\u001b[0m\u001b[94m-\u001b[0m\u001b[94m-\u001b[0m\u001b[94m-\u001b[0m\u001b[94m-\u001b[0m\u001b[94m-\u001b[0m\u001b[94m-\u001b[0m\u001b[94m-\u001b[0m\u001b[94m-\u001b[0m\u001b[94m-\u001b[0m\u001b[94m-\u001b[0m\u001b[94m-\u001b[0m\u001b[94m-\u001b[0m\u001b[94m-\u001b[0m\u001b[94m-\u001b[0m\u001b[94m-\u001b[0m\u001b[94m-\u001b[0m\u001b[94m-\u001b[0m\u001b[94m-\u001b[0m\n"
          ]
        }
      ],
      "source": [
        "if __name__ == '__main__':\n",
        "  #params\n",
        "  maxevals = 200000\n",
        "  popsize = 440\n",
        "  offspring = 440\n",
        "  mut_prob = 0.08\n",
        "  cross_prob = 0.77\n",
        "\n",
        "  #call function\n",
        "  execute = Main(maxevals, popsize, offspring, mut_prob, cross_prob, runs = 2).start()\n"
      ]
    }
  ],
  "metadata": {
    "colab": {
      "collapsed_sections": [
        "v7gamt7RDxET",
        "xSNgNhQmD0IE",
        "CUYZijUQGxLD",
        "MtlGIZ59G-T6",
        "ldgL_Qt9rzMt",
        "L1ea6r46G38S",
        "bCtoiv2NJdNo"
      ],
      "name": "JMpy_TSP.ipynb",
      "provenance": []
    },
    "kernelspec": {
      "display_name": "Python 3",
      "name": "python3"
    },
    "language_info": {
      "name": "python"
    }
  },
  "nbformat": 4,
  "nbformat_minor": 0
}