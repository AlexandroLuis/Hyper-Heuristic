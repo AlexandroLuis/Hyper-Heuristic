{
  "nbformat": 4,
  "nbformat_minor": 0,
  "metadata": {
    "colab": {
      "provenance": [],
      "collapsed_sections": [
        "-7efcaOli9MY",
        "ULJx2pNpjQbC",
        "CZkHHN3clrO-",
        "vFv_hLYrpHhP",
        "l2mhcl9ouamO",
        "EjMT2z3Cmu_l",
        "LmPcsmjzm0_v",
        "I4Gl7fod_KTa",
        "Zb-jilv2ASTo",
        "IE0lAAMGmIb7",
        "Cj39y6jrmMGz",
        "XQioF1enmWYL"
      ]
    },
    "kernelspec": {
      "name": "python3",
      "display_name": "Python 3"
    },
    "language_info": {
      "name": "python"
    }
  },
  "cells": [
    {
      "cell_type": "markdown",
      "source": [
        "#<h1>Travelling Salesman Problem</h1>\n",
        "<table class=\"tfo-notebook-buttons\" align=\"left\">\n",
        "  <td>\n",
        "    <a target=\"_blank\" href=\"https://colab.research.google.com/drive/1vEYijQlc4QRn-ZnW9LYVotI9cgvLWZAy?usp=sharing\">\n",
        "    <img src=\"https://www.tensorflow.org/images/colab_logo_32px.png\" />\n",
        "    Run in Google Colab</a>\n",
        "  </td>\n",
        "  <td>\n",
        "    <a target=\"_blank\" href=\"https://github.com/AlexandroLuis/Hyper-heuristic_to_GeneticAlgorithms/blob/main/Travelling%20Salesman%20Problem/TSP_Without_Hyper-Heuristic.ipynb\">\n",
        "    <img src=\"https://www.tensorflow.org/images/GitHub-Mark-32px.png\" />\n",
        "    View source on GitHub</a>\n",
        "  </td>\n",
        "</table>\n",
        "<br><br>\n",
        "<br>"
      ],
      "metadata": {
        "id": "fAxlLsmZi6a4"
      }
    },
    {
      "cell_type": "markdown",
      "source": [
        "##Import Libraries"
      ],
      "metadata": {
        "id": "-7efcaOli9MY"
      }
    },
    {
      "cell_type": "code",
      "source": [
        "!pip install jmetalpy\n",
        "!pip install thompson-sampling"
      ],
      "metadata": {
        "id": "gl9umB4YjAKQ",
        "colab": {
          "base_uri": "https://localhost:8080/"
        },
        "outputId": "acc1131a-2475-4836-e1ad-c4c69f276911"
      },
      "execution_count": null,
      "outputs": [
        {
          "output_type": "stream",
          "name": "stdout",
          "text": [
            "Looking in indexes: https://pypi.org/simple, https://us-python.pkg.dev/colab-wheels/public/simple/\n",
            "Requirement already satisfied: jmetalpy in /usr/local/lib/python3.7/dist-packages (1.5.5)\n",
            "Requirement already satisfied: statsmodels>=0.9.0 in /usr/local/lib/python3.7/dist-packages (from jmetalpy) (0.12.2)\n",
            "Requirement already satisfied: scipy>=1.3.0 in /usr/local/lib/python3.7/dist-packages (from jmetalpy) (1.7.3)\n",
            "Requirement already satisfied: numpy>=1.16.0 in /usr/local/lib/python3.7/dist-packages (from jmetalpy) (1.21.6)\n",
            "Requirement already satisfied: matplotlib>=3.0.2 in /usr/local/lib/python3.7/dist-packages (from jmetalpy) (3.2.2)\n",
            "Requirement already satisfied: pandas>=0.24.2 in /usr/local/lib/python3.7/dist-packages (from jmetalpy) (1.3.5)\n",
            "Requirement already satisfied: plotly>=3.3.0 in /usr/local/lib/python3.7/dist-packages (from jmetalpy) (5.5.0)\n",
            "Requirement already satisfied: tqdm in /usr/local/lib/python3.7/dist-packages (from jmetalpy) (4.64.1)\n",
            "Requirement already satisfied: python-dateutil>=2.1 in /usr/local/lib/python3.7/dist-packages (from matplotlib>=3.0.2->jmetalpy) (2.8.2)\n",
            "Requirement already satisfied: cycler>=0.10 in /usr/local/lib/python3.7/dist-packages (from matplotlib>=3.0.2->jmetalpy) (0.11.0)\n",
            "Requirement already satisfied: kiwisolver>=1.0.1 in /usr/local/lib/python3.7/dist-packages (from matplotlib>=3.0.2->jmetalpy) (1.4.4)\n",
            "Requirement already satisfied: pyparsing!=2.0.4,!=2.1.2,!=2.1.6,>=2.0.1 in /usr/local/lib/python3.7/dist-packages (from matplotlib>=3.0.2->jmetalpy) (3.0.9)\n",
            "Requirement already satisfied: typing-extensions in /usr/local/lib/python3.7/dist-packages (from kiwisolver>=1.0.1->matplotlib>=3.0.2->jmetalpy) (4.1.1)\n",
            "Requirement already satisfied: pytz>=2017.3 in /usr/local/lib/python3.7/dist-packages (from pandas>=0.24.2->jmetalpy) (2022.2.1)\n",
            "Requirement already satisfied: six in /usr/local/lib/python3.7/dist-packages (from plotly>=3.3.0->jmetalpy) (1.15.0)\n",
            "Requirement already satisfied: tenacity>=6.2.0 in /usr/local/lib/python3.7/dist-packages (from plotly>=3.3.0->jmetalpy) (8.0.1)\n",
            "Requirement already satisfied: patsy>=0.5 in /usr/local/lib/python3.7/dist-packages (from statsmodels>=0.9.0->jmetalpy) (0.5.2)\n",
            "Looking in indexes: https://pypi.org/simple, https://us-python.pkg.dev/colab-wheels/public/simple/\n",
            "Requirement already satisfied: thompson-sampling in /usr/local/lib/python3.7/dist-packages (0.0.4)\n",
            "Requirement already satisfied: numpy in /usr/local/lib/python3.7/dist-packages (from thompson-sampling) (1.21.6)\n",
            "Requirement already satisfied: matplotlib in /usr/local/lib/python3.7/dist-packages (from thompson-sampling) (3.2.2)\n",
            "Requirement already satisfied: typing in /usr/local/lib/python3.7/dist-packages (from thompson-sampling) (3.7.4.3)\n",
            "Requirement already satisfied: pandas in /usr/local/lib/python3.7/dist-packages (from thompson-sampling) (1.3.5)\n",
            "Requirement already satisfied: seaborn in /usr/local/lib/python3.7/dist-packages (from thompson-sampling) (0.11.2)\n",
            "Requirement already satisfied: pyparsing!=2.0.4,!=2.1.2,!=2.1.6,>=2.0.1 in /usr/local/lib/python3.7/dist-packages (from matplotlib->thompson-sampling) (3.0.9)\n",
            "Requirement already satisfied: cycler>=0.10 in /usr/local/lib/python3.7/dist-packages (from matplotlib->thompson-sampling) (0.11.0)\n",
            "Requirement already satisfied: kiwisolver>=1.0.1 in /usr/local/lib/python3.7/dist-packages (from matplotlib->thompson-sampling) (1.4.4)\n",
            "Requirement already satisfied: python-dateutil>=2.1 in /usr/local/lib/python3.7/dist-packages (from matplotlib->thompson-sampling) (2.8.2)\n",
            "Requirement already satisfied: typing-extensions in /usr/local/lib/python3.7/dist-packages (from kiwisolver>=1.0.1->matplotlib->thompson-sampling) (4.1.1)\n",
            "Requirement already satisfied: six>=1.5 in /usr/local/lib/python3.7/dist-packages (from python-dateutil>=2.1->matplotlib->thompson-sampling) (1.15.0)\n",
            "Requirement already satisfied: pytz>=2017.3 in /usr/local/lib/python3.7/dist-packages (from pandas->thompson-sampling) (2022.2.1)\n",
            "Requirement already satisfied: scipy>=1.0 in /usr/local/lib/python3.7/dist-packages (from seaborn->thompson-sampling) (1.7.3)\n"
          ]
        }
      ]
    },
    {
      "cell_type": "code",
      "source": [
        "import math\n",
        "import random\n",
        "import re\n",
        "import json\n",
        "import os\n",
        "import time\n",
        "import shutil\n",
        "import csv\n",
        "import threading\n",
        "import copy\n",
        "\n",
        "from abc import ABC, abstractmethod\n",
        "import pandas as pd\n",
        "import matplotlib.pyplot as plt\n",
        "from pathlib import Path\n",
        "from pandas import Series\n",
        "\n",
        "from typing import Generic, List, TypeVar\n",
        "\n",
        "import jmetal\n",
        "import logging.config\n",
        "\n",
        "#operator\n",
        "from jmetal.operator import *\n",
        "from jmetal.operator.mutation import PermutationSwapMutation\n",
        "from jmetal.operator.crossover import PMXCrossover, Crossover\n",
        "\n",
        "# util\n",
        "from jmetal.util.ranking import StrengthRanking\n",
        "from jmetal.util.density_estimator import KNearestNeighborDensityEstimator\n",
        "from jmetal.util.observer import ProgressBarObserver\n",
        "from jmetal.util.solution import get_non_dominated_solutions\n",
        "from jmetal.util import termination_criterion\n",
        "from jmetal.util.termination_criterion import TerminationCriterion, StoppingByEvaluations\n",
        "from jmetal.util.comparator import Comparator, DominanceComparator, MultiComparator\n",
        "from jmetal.util.evaluator import Evaluator\n",
        "from jmetal.util.generator import Generator\n",
        "\n",
        "#core\n",
        "from jmetal.core.quality_indicator import *\n",
        "from jmetal.core.problem import PermutationProblem, Problem\n",
        "from jmetal.core.solution import PermutationSolution, Solution, FloatSolution\n",
        "from jmetal.core.operator import Mutation, Crossover, Selection\n",
        "\n",
        "#lab\n",
        "from jmetal.lab.experiment import Experiment, Job, generate_summary_from_experiment\n",
        "\n",
        "#config\n",
        "from jmetal.config import store\n",
        "\n",
        "#thompson-sampling\n",
        "from thompson_sampling.bernoulli import BernoulliExperiment\n",
        "from thompson_sampling.priors import BetaPrior\n"
      ],
      "metadata": {
        "id": "vC082baOjBtx"
      },
      "execution_count": null,
      "outputs": []
    },
    {
      "cell_type": "markdown",
      "source": [
        "##Import Problem"
      ],
      "metadata": {
        "id": "ULJx2pNpjQbC"
      }
    },
    {
      "cell_type": "markdown",
      "source": [
        "###Import TSP Instances"
      ],
      "metadata": {
        "id": "-DwG2ky8jRzx"
      }
    },
    {
      "cell_type": "code",
      "source": [
        "# for windows put Desktop+path\n",
        "windows_path = \"Desktop\"\n",
        "instances_path = \"/content/instances/\" \n",
        "output_path = windows_path+\"/content/output/\"\n",
        "instances_zip_path = \"/content/instances.zip\""
      ],
      "metadata": {
        "id": "l21RXl0Ijb8M"
      },
      "execution_count": null,
      "outputs": []
    },
    {
      "cell_type": "code",
      "source": [
        "try:\n",
        "  os.mkdir(instances_path)\n",
        "except:\n",
        "  pass\n",
        "\n",
        "# Download instances from a google drive folder\n",
        "try:\n",
        "  !gdown 1SN-p8Wj6z0hCshiueZety4dEhkjlhDTr\n",
        "except Exception as e:\n",
        "  print(e)\n",
        "\n",
        "# Unpack it\n",
        "try:\n",
        "  os.replace(instances_zip_path, instances_path+\"instances.zip\")\n",
        "  shutil.unpack_archive(instances_path+\"instances.zip\", instances_path)\n",
        "  os.remove(instances_path+\"instances.zip\")\n",
        "except Exception as e:\n",
        "  print(f\"error: {e}\")"
      ],
      "metadata": {
        "colab": {
          "base_uri": "https://localhost:8080/"
        },
        "id": "XQ2kSdDbjW0D",
        "outputId": "ffe33330-074c-4228-afc1-be2d3aee90ad"
      },
      "execution_count": null,
      "outputs": [
        {
          "output_type": "stream",
          "name": "stdout",
          "text": [
            "Downloading...\n",
            "From: https://drive.google.com/uc?id=1SN-p8Wj6z0hCshiueZety4dEhkjlhDTr\n",
            "To: /content/instances.zip\n",
            "\r  0% 0.00/74.7k [00:00<?, ?B/s]\r100% 74.7k/74.7k [00:00<00:00, 75.7MB/s]\n"
          ]
        }
      ]
    },
    {
      "cell_type": "markdown",
      "source": [
        "###Reading TSP Files"
      ],
      "metadata": {
        "id": "GflGX1Ark97B"
      }
    },
    {
      "cell_type": "code",
      "source": [
        "def read_tsplib_file(filename):\n",
        "    if filename is None:\n",
        "        raise FileNotFoundError('Filename can not be None')\n",
        "    with open(filename) as file:\n",
        "        lines = file.readlines()\n",
        "        data = [line.lstrip() for line in lines if line != \"\"]\n",
        "        dimension = re.compile(r'[^\\d]+')\n",
        "        for item in data:\n",
        "            if item.startswith('DIMENSION'):\n",
        "                dimension = int(dimension.sub('', item))\n",
        "                break\n",
        "        c = [-1.0] * (2 * dimension)\n",
        "        cities_coord = []\n",
        "        for item in data:\n",
        "            if item[0].isdigit():\n",
        "                j, coordX, coordY = [float(x.strip()) for x in item.split(' ')]\n",
        "                c[2 * (int(j) - 1)] = coordX\n",
        "                c[2 * (int(j) - 1) + 1] = coordY\n",
        "                cities_coord.append([coordX,coordY])\n",
        "        cities = pd.DataFrame(cities_coord)\n",
        "        matrix = [[-1] * dimension for _ in range(dimension)]\n",
        "        for k in range(dimension):\n",
        "            matrix[k][k] = 0\n",
        "            for j in range(k + 1, dimension):\n",
        "                dist = math.sqrt((c[k * 2] - c[j * 2]) ** 2 + (c[k * 2 + 1] - c[j * 2 + 1]) ** 2)\n",
        "                dist = round(dist)\n",
        "                matrix[k][j] = dist\n",
        "                matrix[j][k] = dist\n",
        "        return matrix, dimension, cities"
      ],
      "metadata": {
        "id": "bZKI82_Xk-yP"
      },
      "execution_count": null,
      "outputs": []
    },
    {
      "cell_type": "markdown",
      "source": [
        "###TSP Solver Class"
      ],
      "metadata": {
        "id": "lWg7gt4IlDax"
      }
    },
    {
      "cell_type": "code",
      "source": [
        "class myTSP(PermutationProblem):\n",
        "    def __init__(self, distance_matrix, number_of_cities, fitness_log):\n",
        "        super(myTSP, self).__init__()\n",
        "        self.distance_matrix = distance_matrix\n",
        "        self.number_of_variables = number_of_cities\n",
        "        self.obj_directions = [self.MINIMIZE]\n",
        "        self.number_of_objectives = 1\n",
        "        self.number_of_constraints = 0\n",
        "        self.fitness_log = fitness_log\n",
        "        \n",
        "    def evaluate(self, solution: PermutationSolution) -> PermutationSolution:\n",
        "        fitness = 0\n",
        "        for i in range(self.number_of_variables - 1):\n",
        "            x = solution.variables[i]\n",
        "            y = solution.variables[i + 1]\n",
        "            fitness += self.distance_matrix[x][y]\n",
        "        first_city, last_city = solution.variables[0], solution.variables[-1]\n",
        "        fitness += self.distance_matrix[first_city][last_city]\n",
        "        solution.objectives[0] = fitness\n",
        "        self.fitness_log.append(fitness)\n",
        "        return solution\n",
        "    \n",
        "    def create_solution(self) -> PermutationSolution:\n",
        "        new_solution = PermutationSolution(number_of_variables=self.number_of_variables,\n",
        "                                           number_of_objectives=self.number_of_objectives)\n",
        "        new_solution.variables = random.sample(range(self.number_of_variables), k=self.number_of_variables)\n",
        "        return new_solution\n",
        "\n",
        "    @property\n",
        "    def number_of_cities(self):\n",
        "        return self.number_of_variables\n",
        "\n",
        "    def get_name(self):\n",
        "        return 'Symmetric TSP'"
      ],
      "metadata": {
        "id": "0iVPGeIhlEJg"
      },
      "execution_count": null,
      "outputs": []
    },
    {
      "cell_type": "markdown",
      "source": [
        "##Load Problem Informations"
      ],
      "metadata": {
        "id": "CZkHHN3clrO-"
      }
    },
    {
      "cell_type": "code",
      "source": [
        "class problem():\n",
        "  def __init__(self, j):\n",
        "        self.problem_name = j\n",
        "        self.optimal_fitness = 0000 # it return the optimum of each different problem\n",
        "        self.location = instances_path+j\n",
        "        self.dist_matrix, self.nb_cities, self.cities_coord = read_tsplib_file(self.location)\n",
        "\n",
        "  def myProblem(self, fitness_log): \n",
        "    return myTSP(self.dist_matrix, self.nb_cities, fitness_log)\n",
        "\n",
        "  def getProblemName(self):\n",
        "    return self.problem_name\n",
        "\n",
        "  def getOptimalFitness(self):\n",
        "    return self.optimal_fitness\n",
        "  \n",
        "  def getCityCoord(self):\n",
        "    return self.cities_coord\n",
        "  \n",
        "  def getDimensions(self):\n",
        "    return self.nb_cities"
      ],
      "metadata": {
        "id": "hL7hWQwWlu8v"
      },
      "execution_count": null,
      "outputs": []
    },
    {
      "cell_type": "markdown",
      "source": [
        "##Operators Core"
      ],
      "metadata": {
        "id": "BnXqaLbGmn_G"
      }
    },
    {
      "cell_type": "markdown",
      "source": [
        "### Informations Catch"
      ],
      "metadata": {
        "id": "zosfPe1-lzBL"
      }
    },
    {
      "cell_type": "code",
      "source": [
        "class infoCatch():\n",
        "  def __init__(self):\n",
        "    self.eachSonOP = []\n",
        "    self.evenOPCounter = [0, 0, 0, 0]\n",
        "\n",
        "  def updateInfo(self, values, operator):\n",
        "    try:\n",
        "      for i in range(2):\n",
        "        self.eachSonOP.append(\n",
        "            {'offspring and operator': [\n",
        "                  {\n",
        "                    'offspring '+str(i+1): values[i], \n",
        "                    'operator ': operator\n",
        "                  }\n",
        "                ]\n",
        "             }\n",
        "        )\n",
        "\n",
        "      x = [\"Scramble&PMX\", \"Scramble&CX\", \"Swap&PMX\", \"Swap&CX\"]\n",
        "      for i, j in zip(x, range(len(x))):\n",
        "        if str(i) == str(operator):\n",
        "          self.evenOPCounter[j] = self.evenOPCounter[j]+1\n",
        "          break\n",
        "\n",
        "    except Exception as e:\n",
        "      print(f\"Error while collecting infos: {e}\")\n",
        "\n",
        "  def getInfo(self):\n",
        "    print(f\"\\noperadores por pai: {self.eachSonOP}\\n\")\n",
        "    print(f\"\\ncontador:{self.evenOPCounter}\\n\")"
      ],
      "metadata": {
        "id": "XWSnKu7tl20p"
      },
      "execution_count": null,
      "outputs": []
    },
    {
      "cell_type": "markdown",
      "source": [
        "###Logging"
      ],
      "metadata": {
        "id": "vFv_hLYrpHhP"
      }
    },
    {
      "cell_type": "code",
      "source": [
        "def get_logger(module):\n",
        "    return logging.getLogger(module)\n",
        "\n",
        "logger = get_logger(__name__)\n",
        "\n",
        "S = TypeVar(\"S\")\n",
        "R = TypeVar(\"R\")\n",
        "\n",
        "def configure_logging():\n",
        "    DEFAULT_LOGGING_CONFIG = {\n",
        "        \"version\": 1,\n",
        "        \"disable_existing_loggers\": False,\n",
        "        \"formatters\": {\n",
        "            \"basic\": {\n",
        "                \"format\": \"[%(asctime)s] [%(name)s] [%(levelname)s] %(message)s\",\n",
        "            }\n",
        "        },\n",
        "        \"handlers\": {\n",
        "            \"console\": {\n",
        "                \"formatter\": \"basic\",\n",
        "                \"class\": \"logging.StreamHandler\",\n",
        "                \"stream\": \"ext://sys.stderr\",\n",
        "            }\n",
        "        },\n",
        "        \"loggers\": {\n",
        "            \"jmetal\": {\"handlers\": [\"console\"], \"level\": \"DEBUG\"},\n",
        "        },\n",
        "    }\n",
        "\n",
        "    logging.config.dictConfig(DEFAULT_LOGGING_CONFIG)\n"
      ],
      "metadata": {
        "id": "ozuOaHNTpIsZ"
      },
      "execution_count": null,
      "outputs": []
    },
    {
      "cell_type": "markdown",
      "source": [
        "### Thompson Sampling"
      ],
      "metadata": {
        "id": "l2mhcl9ouamO"
      }
    },
    {
      "cell_type": "code",
      "source": [
        "class ThompsonSampling():\n",
        "  def __init__(self):\n",
        "    self.means = Series([0.5, 0.5, 0.5, 0.5])\n",
        "    self.variances = Series([0.1, 0.1, 0.1, 0.1])\n",
        "    self.effective_sizes = Series([10, 10, 10, 10])\n",
        "    self.labels = Series([\"Scramble&PMX\", \"Scramble&CX\", \"Swap&PMX\", \"Swap&CX\"])\n",
        "\n",
        "    pr = BetaPrior()\n",
        "    pr.add_multiple(self.means, self.variances, self.effective_sizes, self.labels)\n",
        "    \n",
        "    self.experiment = BernoulliExperiment(priors = pr)\n",
        "\n",
        "  def TS_action(self):\n",
        "    arms = self.experiment.choose_arm()\n",
        "    return arms\n",
        "  \n",
        "  def TS_update(self, Result, mutation_operator, crossover_operator, operator):\n",
        "    try:\n",
        "      rewards = []\n",
        "      if Result:\n",
        "        for i in [\"Scramble&PMX\", \"Scramble&CX\", \"Swap&PMX\", \"Swap&CX\"]:\n",
        "          if str(i) == str(operator):\n",
        "            rewards.append({\"label\":i, \"reward\":1})\n",
        "          else:\n",
        "            rewards.append({\"label\":i, \"reward\":0})\n",
        "      else:\n",
        "        for i in [\"Scramble&PMX\", \"Scramble&CX\", \"Swap&PMX\", \"Swap&CX\"]:\n",
        "          if str(i) == str(operator):\n",
        "            rewards.append({\"label\":i, \"reward\":-1})\n",
        "          else:\n",
        "            rewards.append({\"label\":i, \"reward\":0})\n",
        "\n",
        "      self.experiment.add_rewards(rewards)\n",
        "    except Exception as e:\n",
        "      print(f\"Thompson Sampling Class Error: {e}\\n\") \n",
        "\n",
        "  def get_result(self):\n",
        "    print(self.experiment.get_ppd(size=2000))"
      ],
      "metadata": {
        "id": "8gup5tKmudOV"
      },
      "execution_count": null,
      "outputs": []
    },
    {
      "cell_type": "markdown",
      "source": [
        "###Heuristics"
      ],
      "metadata": {
        "id": "EjMT2z3Cmu_l"
      }
    },
    {
      "cell_type": "code",
      "source": [
        "'''\n",
        "  Start the LKH algorithm with the current tour.\n",
        "'''\n",
        "#http://akira.ruc.dk/~keld/research/LKH/LKH-1.3/DOC/LKH_REPORT.pdf\n",
        "\n",
        "class LKH_Heuristic():\n",
        "  def __init__(self, result):\n",
        "    self.tour = result.variables\n",
        "    pass\n",
        "\n",
        "  def execution():\n",
        "    pass\n",
        "    \n"
      ],
      "metadata": {
        "id": "Ez-ztAXsmsUu"
      },
      "execution_count": null,
      "outputs": []
    },
    {
      "cell_type": "markdown",
      "source": [
        "###Selection"
      ],
      "metadata": {
        "id": "LmPcsmjzm0_v"
      }
    },
    {
      "cell_type": "code",
      "source": [
        "\"\"\"\n",
        "  Performs roulette wheel selection.\n",
        "\"\"\" \n",
        "\n",
        "S = TypeVar('S')\n",
        "\n",
        "class RouletteWheelSelection(Selection[List[S], S]):\n",
        "  def __init__(self):\n",
        "    super(RouletteWheelSelection).__init__()\n",
        "\n",
        "  def execute(self, front: List[S]) -> S:\n",
        "    if front is None:\n",
        "        raise Exception('The front is null')\n",
        "    elif len(front) == 0:\n",
        "        raise Exception('The front is empty')\n",
        "\n",
        "    maximum = sum([solution.objectives[0] for solution in front])\n",
        "    rand = random.uniform(0.0, maximum)\n",
        "    value = 0.0\n",
        "\n",
        "    for solution in front:\n",
        "        value += solution.objectives[0]\n",
        "\n",
        "        if value > rand:\n",
        "            return solution\n",
        "\n",
        "    return None\n",
        "\n",
        "  def get_name(self) -> str:\n",
        "    return 'Roulette wheel selection'"
      ],
      "metadata": {
        "id": "05710ewlm2XI"
      },
      "execution_count": null,
      "outputs": []
    },
    {
      "cell_type": "markdown",
      "source": [
        "###Crossover"
      ],
      "metadata": {
        "id": "I4Gl7fod_KTa"
      }
    },
    {
      "cell_type": "code",
      "source": [
        "class CXCrossover(Crossover[PermutationSolution, PermutationSolution]):\n",
        "  def __init__(self, probability: float):\n",
        "    super(CXCrossover, self).__init__(probability=probability)\n",
        "  def execute(self, parents: List[PermutationSolution]) -> List[PermutationSolution]:\n",
        "    if len(parents) != 2:\n",
        "      raise Exception('The number of parents is not two: {}'.format(len(parents)))\n",
        "\n",
        "    offspring = [copy.deepcopy(parents[1]), copy.deepcopy(parents[0])]\n",
        "\n",
        "    rand = random.random()\n",
        "\n",
        "    if rand <= self.probability:\n",
        "      idx = random.randint(0, len(parents[0].variables) - 1)\n",
        "      curr_idx = idx\n",
        "      cycle = []\n",
        "\n",
        "      while True:\n",
        "        cycle.append(curr_idx)\n",
        "        curr_idx = parents[0].variables.index(parents[1].variables[curr_idx])\n",
        "\n",
        "        if curr_idx == idx:\n",
        "          break\n",
        "\n",
        "      for j in range(len(parents[0].variables)):\n",
        "        if j in cycle:\n",
        "          offspring[0].variables[j] = parents[0].variables[j]\n",
        "          offspring[1].variables[j] = parents[0].variables[j]\n",
        "      \n",
        "    return offspring\n",
        "\n",
        "  def get_number_of_parents(self) -> int:\n",
        "    return 2\n",
        "\n",
        "  def get_number_of_children(self) -> int:\n",
        "    return 2\n",
        "\n",
        "  def get_name(self):\n",
        "    return 'Cycle crossover'\n"
      ],
      "metadata": {
        "id": "pBet1nWvlCVE"
      },
      "execution_count": null,
      "outputs": []
    },
    {
      "cell_type": "code",
      "source": [
        "class PMXCrossover(Crossover[PermutationSolution, PermutationSolution]):\n",
        "    def __init__(self, probability: float):\n",
        "        super(PMXCrossover, self).__init__(probability=probability)\n",
        "\n",
        "    def execute(self, parents: List[PermutationSolution]) -> List[PermutationSolution]:\n",
        "        if len(parents) != 2:\n",
        "            raise Exception('The number of parents is not two: {}'.format(len(parents)))\n",
        "\n",
        "        offspring = [copy.deepcopy(parents[0]), copy.deepcopy(parents[1])]\n",
        "        permutation_length = offspring[0].number_of_variables\n",
        "\n",
        "        rand = random.random()\n",
        "        if rand <= self.probability:\n",
        "            cross_points = sorted([random.randint(0, permutation_length) for _ in range(2)])\n",
        "\n",
        "            def _repeated(element, collection):\n",
        "                c = 0\n",
        "                for e in collection:\n",
        "                    if e == element:\n",
        "                        c += 1\n",
        "                return c > 1\n",
        "\n",
        "            def _swap(data_a, data_b, cross_points):\n",
        "                c1, c2 = cross_points\n",
        "                new_a = data_a[:c1] + data_b[c1:c2] + data_a[c2:]\n",
        "                new_b = data_b[:c1] + data_a[c1:c2] + data_b[c2:]\n",
        "                return new_a, new_b\n",
        "\n",
        "            def _map(swapped, cross_points):\n",
        "                n = len(swapped[0])\n",
        "                c1, c2 = cross_points\n",
        "                s1, s2 = swapped\n",
        "                map_ = s1[c1:c2], s2[c1:c2]\n",
        "                for i_chromosome in range(n):\n",
        "                    if not c1 < i_chromosome < c2:\n",
        "                        for i_son in range(2):\n",
        "                            while _repeated(swapped[i_son][i_chromosome], swapped[i_son]):\n",
        "                                map_index = map_[i_son].index(swapped[i_son][i_chromosome])\n",
        "                                swapped[i_son][i_chromosome] = map_[1 - i_son][map_index]\n",
        "                return s1, s2\n",
        "\n",
        "            swapped = _swap(parents[0].variables, parents[1].variables, cross_points)\n",
        "            mapped = _map(swapped, cross_points)\n",
        "\n",
        "            offspring[0].variables, offspring[1].variables = mapped\n",
        "\n",
        "        return offspring\n",
        "\n",
        "    def get_number_of_parents(self) -> int:\n",
        "        return 2\n",
        "\n",
        "    def get_number_of_children(self) -> int:\n",
        "        return 2\n",
        "\n",
        "    def get_name(self):\n",
        "        return 'Partially Matched crossover'"
      ],
      "metadata": {
        "id": "AOG2Z59dyPf2"
      },
      "execution_count": null,
      "outputs": []
    },
    {
      "cell_type": "markdown",
      "source": [
        "###Mutation"
      ],
      "metadata": {
        "id": "Zb-jilv2ASTo"
      }
    },
    {
      "cell_type": "code",
      "source": [
        "class ScrambleMutation(Mutation[PermutationSolution]):\n",
        "  def execute(self, solution: PermutationSolution) -> PermutationSolution:\n",
        "    rand = random.random()\n",
        "\n",
        "    if rand <= self.probability:\n",
        "      point1 = random.randint(0, len(solution.variables))\n",
        "      point2 = random.randint(0, len(solution.variables) - 1)\n",
        "\n",
        "      if point2 >= point1:\n",
        "        point2 += 1\n",
        "      else:\n",
        "        point1, point2 = point2, point1\n",
        "\n",
        "      if point2 - point1 >= 20:\n",
        "        point2 = point1 + 20\n",
        "\n",
        "      values = solution.variables[point1:point2]\n",
        "      solution.variables[point1:point2] = random.sample(values, len(values))\n",
        "\n",
        "    return solution\n",
        "\n",
        "\n",
        "  def get_name(self):\n",
        "    return 'Scramble Mutation'"
      ],
      "metadata": {
        "id": "vgMTUzmvATtn"
      },
      "execution_count": null,
      "outputs": []
    },
    {
      "cell_type": "code",
      "source": [
        "'''\n",
        "class PermutationSwapMutation(Mutation[PermutationSolution]):\n",
        "\n",
        "    def execute(self, solution: PermutationSolution) -> PermutationSolution:\n",
        "        Check.that(type(solution) is PermutationSolution, \"Solution type invalid\")\n",
        "\n",
        "        rand = random.random()\n",
        "\n",
        "        if rand <= self.probability:\n",
        "            pos_one, pos_two = random.sample(range(solution.number_of_variables - 1), 2)\n",
        "            solution.variables[pos_one], solution.variables[pos_two] = \\\n",
        "                solution.variables[pos_two], solution.variables[pos_one]\n",
        "\n",
        "        return solution\n",
        "\n",
        "    def get_name(self):\n",
        "        return 'Permutation Swap mutation'\n",
        "'''"
      ],
      "metadata": {
        "colab": {
          "base_uri": "https://localhost:8080/"
        },
        "id": "aDFd1pLUymb7",
        "outputId": "fa863c24-d44a-4846-c44e-c20fbefd1f25"
      },
      "execution_count": null,
      "outputs": [
        {
          "output_type": "execute_result",
          "data": {
            "text/plain": [
              "'\\nclass PermutationSwapMutation(Mutation[PermutationSolution]):\\n\\n    def execute(self, solution: PermutationSolution) -> PermutationSolution:\\n        Check.that(type(solution) is PermutationSolution, \"Solution type invalid\")\\n\\n        rand = random.random()\\n\\n        if rand <= self.probability:\\n            pos_one, pos_two = random.sample(range(solution.number_of_variables - 1), 2)\\n            solution.variables[pos_one], solution.variables[pos_two] =                 solution.variables[pos_two], solution.variables[pos_one]\\n\\n        return solution\\n\\n    def get_name(self):\\n        return \\'Permutation Swap mutation\\'\\n'"
            ],
            "application/vnd.google.colaboratory.intrinsic+json": {
              "type": "string"
            }
          },
          "metadata": {},
          "execution_count": 27
        }
      ]
    },
    {
      "cell_type": "markdown",
      "source": [
        "###Algorithm"
      ],
      "metadata": {
        "id": "qJmWA2iApQZx"
      }
    },
    {
      "cell_type": "code",
      "source": [
        "class Algorithm(Generic[S, R], threading.Thread, ABC):\n",
        "    def __init__(self):\n",
        "        threading.Thread.__init__(self)\n",
        "\n",
        "        self.solutions: List[S] = []\n",
        "        self.evaluations = 0\n",
        "        self.start_computing_time = 0\n",
        "        self.total_computing_time = 0\n",
        "\n",
        "        self.observable = store.default_observable\n",
        "\n",
        "    @abstractmethod\n",
        "    def create_initial_solutions(self) -> List[S]:\n",
        "        \"\"\"Creates the initial list of solutions of a metaheuristic.\"\"\"\n",
        "        pass\n",
        "\n",
        "    @abstractmethod\n",
        "    def evaluate(self, solution_list: List[S]) -> List[S]:\n",
        "        \"\"\"Evaluates a solution list.\"\"\"\n",
        "        pass\n",
        "\n",
        "    @abstractmethod\n",
        "    def init_progress(self) -> None:\n",
        "        \"\"\"Initialize the algorithm.\"\"\"\n",
        "        pass\n",
        "\n",
        "    @abstractmethod\n",
        "    def stopping_condition_is_met(self) -> bool:\n",
        "        \"\"\"The stopping condition is met or not.\"\"\"\n",
        "        pass\n",
        "\n",
        "    @abstractmethod\n",
        "    def step(self) -> None:\n",
        "        \"\"\"Performs one iteration/step of the algorithm's loop.\"\"\"\n",
        "        pass\n",
        "\n",
        "    @abstractmethod\n",
        "    def update_progress(self) -> None:\n",
        "        \"\"\"Update the progress after each iteration.\"\"\"\n",
        "        pass\n",
        "\n",
        "    @abstractmethod\n",
        "    def get_observable_data(self) -> dict:\n",
        "        \"\"\"Get observable data, with the information that will be send to all observers each time.\"\"\"\n",
        "        pass\n",
        "\n",
        "    def run(self):\n",
        "        \"\"\"Execute the algorithm.\"\"\"\n",
        "        self.start_computing_time = time.time()\n",
        "\n",
        "        logger.debug(\"Creating initial set of solutions...\")\n",
        "        self.solutions = self.create_initial_solutions()\n",
        "\n",
        "        logger.debug(\"Evaluating solutions...\")\n",
        "        self.solutions = self.evaluate(self.solutions)\n",
        "\n",
        "        logger.debug(\"Initializing progress...\")\n",
        "        self.init_progress()\n",
        "\n",
        "        logger.debug(\"Running main loop until termination criteria is met\")\n",
        "\n",
        "        while not self.stopping_condition_is_met():\n",
        "            self.step()\n",
        "            self.update_progress()\n",
        "\n",
        "        logger.debug(\"Finished!\")\n",
        "        self.total_computing_time = time.time() - self.start_computing_time\n",
        "\n",
        "    @abstractmethod\n",
        "    def get_result(self) -> R:\n",
        "        pass\n",
        "\n",
        "    @abstractmethod\n",
        "    def get_name(self) -> str:\n",
        "        pass"
      ],
      "metadata": {
        "id": "1xTYwYlkpSVJ"
      },
      "execution_count": null,
      "outputs": []
    },
    {
      "cell_type": "code",
      "source": [
        "class DynamicAlgorithm(Algorithm[S, R], ABC):\n",
        "    @abstractmethod\n",
        "    def restart(self) -> None:\n",
        "        pass"
      ],
      "metadata": {
        "id": "G4eNU9c3paNK"
      },
      "execution_count": null,
      "outputs": []
    },
    {
      "cell_type": "code",
      "source": [
        "class EvolutionaryAlgorithm(Algorithm[S, R], ABC):\n",
        "    def __init__(self, problem: Problem[S], population_size: int, offspring_population_size: int):\n",
        "        super(EvolutionaryAlgorithm, self).__init__()\n",
        "        self.problem = problem\n",
        "        self.population_size = population_size\n",
        "        self.offspring_population_size = offspring_population_size\n",
        "\n",
        "    @abstractmethod\n",
        "    def selection(self, population: List[S]) -> List[S]:\n",
        "        \"\"\"Select the best-fit individuals for reproduction (parents).\"\"\"\n",
        "        pass\n",
        "\n",
        "    @abstractmethod\n",
        "    def reproduction(self, population: List[S]) -> List[S]:\n",
        "        \"\"\"Breed new individuals through crossover and mutation operations to give birth to offspring.\"\"\"\n",
        "        pass\n",
        "\n",
        "    @abstractmethod\n",
        "    def replacement(self, population: List[S], offspring_population: List[S]) -> List[S]:\n",
        "        \"\"\"Replace least-fit population with new individuals.\"\"\"\n",
        "        pass\n",
        "\n",
        "    def get_observable_data(self) -> dict:\n",
        "        return {\n",
        "            \"PROBLEM\": self.problem,\n",
        "            \"EVALUATIONS\": self.evaluations,\n",
        "            \"SOLUTIONS\": self.get_result(),\n",
        "            \"COMPUTING_TIME\": time.time() - self.start_computing_time,\n",
        "        }\n",
        "\n",
        "    def init_progress(self) -> None:\n",
        "        self.evaluations = self.population_size\n",
        "\n",
        "        observable_data = self.get_observable_data()\n",
        "        self.observable.notify_all(**observable_data)\n",
        "\n",
        "    def step(self):\n",
        "        mating_population = self.selection(self.solutions)\n",
        "        offspring_population = self.reproduction(mating_population)\n",
        "        offspring_population = self.evaluate(offspring_population)\n",
        "\n",
        "        self.solutions = self.replacement(self.solutions, offspring_population)\n",
        "\n",
        "    def update_progress(self) -> None:\n",
        "        self.evaluations += self.offspring_population_size\n",
        "\n",
        "        observable_data = self.get_observable_data()\n",
        "        self.observable.notify_all(**observable_data)\n",
        "\n",
        "    @property\n",
        "    def label(self) -> str:\n",
        "        return f\"{self.get_name()}.{self.problem.get_name()}\""
      ],
      "metadata": {
        "id": "Sh2DpljOpYHS"
      },
      "execution_count": null,
      "outputs": []
    },
    {
      "cell_type": "code",
      "source": [
        "class GeneticAlgorithm(EvolutionaryAlgorithm[S, R]):\n",
        "    def __init__(\n",
        "                 self,\n",
        "                 problem: Problem,\n",
        "                 population_size: int,\n",
        "                 offspring_population_size: int,\n",
        "                 mutation: Mutation,\n",
        "                 crossover: Crossover,\n",
        "                 selection: Selection,\n",
        "                 termination_criterion: TerminationCriterion = store.default_termination_criteria,\n",
        "                 population_generator: Generator = store.default_generator,\n",
        "                 population_evaluator: Evaluator = store.default_evaluator\n",
        "        ):\n",
        "        super(GeneticAlgorithm, self).__init__(problem=problem, population_size=population_size, offspring_population_size=offspring_population_size)\n",
        "        # Mutation\n",
        "        self.mutation = mutation\n",
        "        self.mutation_operator = NullMutation()\n",
        "        # Crossover\n",
        "        self.crossover = crossover\n",
        "        self.crossover_operator = NullCrossover()\n",
        "        #Selection\n",
        "        self.selection_operator = selection\n",
        "\n",
        "        self.population_generator = population_generator\n",
        "        self.population_evaluator = population_evaluator\n",
        "\n",
        "        self.termination_criterion = termination_criterion\n",
        "        self.observable.register(termination_criterion)\n",
        "\n",
        "        # Thompson Sampling init\n",
        "        self.thompsonsampling = ThompsonSampling()\n",
        "        self.infoCatch = infoCatch()\n",
        "\n",
        "        self.mating_pool_size = \\\n",
        "            self.offspring_population_size * \\\n",
        "            self.crossover_operator.get_number_of_parents() // self.crossover_operator.get_number_of_children()\n",
        "\n",
        "        if self.mating_pool_size < self.crossover_operator.get_number_of_children():\n",
        "            self.mating_pool_size = self.crossover_operator.get_number_of_children()\n",
        "\n",
        "\n",
        "    def create_initial_solutions(self) -> List[S]:\n",
        "        return [self.population_generator.new(self.problem)\n",
        "                for _ in range(self.population_size)]\n",
        "\n",
        "    def evaluate(self, population: List[S]):\n",
        "        return self.population_evaluator.evaluate(population, self.problem)\n",
        "\n",
        "    def thompson_sampling_updateOperator(self):\n",
        "      self.operator = self.thompsonsampling.TS_action()\n",
        "      if self.operator[0:4] == \"Swap\":\n",
        "        self.mutation_operator = self.mutation[1]\n",
        "        if self.operator[:-2] == \"CX\":\n",
        "          self.crossover_operator = self.crossover[1]\n",
        "        else:\n",
        "          self.crossover_operator = self.crossover[0]\n",
        "      else:\n",
        "        self.mutation_operator = self.mutation[0]\n",
        "        if self.operator[-2:] == \"CX\":\n",
        "          self.crossover_operator = self.crossover[1]\n",
        "        else:\n",
        "          self.crossover_operator = self.crossover[0]\n",
        "\n",
        "    def thompson_sampling_updateRewards(self, parents, generated):\n",
        "      try:\n",
        "        generated = self.evaluate(generated)\n",
        "        if generated[0].objectives[0] or generated[1].objectives[0] > parents[0].objectives[0] or parents[1].objectives[0]:\n",
        "          Result = True\n",
        "        else:\n",
        "          Result = False\n",
        "\n",
        "        self.thompsonsampling.TS_update(\n",
        "            Result, \n",
        "            self.mutation_operator, \n",
        "            self.crossover_operator, \n",
        "            self.operator\n",
        "        )\n",
        "      except Exception as e:\n",
        "        print(f\"Error doing TS update: {e}\")\n",
        "      \n",
        "\n",
        "    def stopping_condition_is_met(self) -> bool:\n",
        "        return self.termination_criterion.is_met\n",
        "\n",
        "    def selection(self, population: List[S]):\n",
        "        mating_population = []\n",
        "\n",
        "        for i in range(self.mating_pool_size):\n",
        "            solution = self.selection_operator.execute(population)\n",
        "            mating_population.append(solution)\n",
        "\n",
        "        return mating_population\n",
        "\n",
        "    def reproduction(self, mating_population: List[S]) -> List[S]:\n",
        "        number_of_parents_to_combine = self.crossover_operator.get_number_of_parents()\n",
        "\n",
        "        if len(mating_population) % number_of_parents_to_combine != 0:\n",
        "            raise Exception('Wrong number of parents')\n",
        "\n",
        "        offspring_population = []\n",
        "        for i in range(0, self.offspring_population_size, number_of_parents_to_combine):\n",
        "            parents = []\n",
        "            generated = []\n",
        "            myDict = []\n",
        "\n",
        "            for j in range(number_of_parents_to_combine):\n",
        "                parents.append(mating_population[i + j])\n",
        "\n",
        "            self.thompson_sampling_updateOperator()\n",
        "            offspring = self.crossover_operator.execute(parents)\n",
        "            for solution in offspring:\n",
        "                self.thompson_sampling_updateOperator()\n",
        "                self.mutation_operator.execute(solution)\n",
        "\n",
        "                generated.append(solution)\n",
        "                offspring_population.append(solution)\n",
        "                myDict.append(solution.variables)\n",
        "\n",
        "                if len(offspring_population) >= self.offspring_population_size:\n",
        "                    break\n",
        "            self.infoCatch.updateInfo(myDict, self.operator)\n",
        "            self.thompson_sampling_updateRewards(parents, generated)\n",
        "        return offspring_population\n",
        "\n",
        "    def replacement(self, population: List[S], offspring_population: List[S]) -> List[S]:\n",
        "        population.extend(offspring_population)\n",
        "\n",
        "        population.sort(key=lambda s: s.objectives[0])\n",
        "\n",
        "        return population[:self.population_size]\n",
        "\n",
        "    def get_result(self) -> R:\n",
        "        return self.solutions[0]\n",
        "\n",
        "    def get_name(self) -> str:\n",
        "        return 'Genetic algorithm'\n",
        "    \n",
        "    def get_TS_result(self):\n",
        "      return self.thompsonsampling.get_result(), self.infoCatch.getInfo()"
      ],
      "metadata": {
        "id": "fBIbF4MCpVYi"
      },
      "execution_count": null,
      "outputs": []
    },
    {
      "cell_type": "markdown",
      "source": [
        "##Output"
      ],
      "metadata": {
        "id": "IE0lAAMGmIb7"
      }
    },
    {
      "cell_type": "markdown",
      "source": [
        "###Save Output to Textual Files"
      ],
      "metadata": {
        "id": "Cj39y6jrmMGz"
      }
    },
    {
      "cell_type": "code",
      "source": [
        "class bcolors:\n",
        "  OKGREEN = '\\033[32m'\n",
        "  WARNING = '\\033[31m'\n",
        "  LightBl = \"\\033[94m\"\n",
        "  ENDC = '\\033[0m'"
      ],
      "metadata": {
        "id": "Q1JMJfaxmedz"
      },
      "execution_count": null,
      "outputs": []
    },
    {
      "cell_type": "code",
      "source": [
        "class outputFile():\n",
        "  def __init__(self, my_algo, pop_evolved, log, params, i, maxevals, j):\n",
        "    self.algorithm_name = my_algo.get_name()\n",
        "    self.solution_x = pop_evolved.variables\n",
        "    self.fitness = pop_evolved.objectives[0]\n",
        "    self.n_evals = my_algo.evaluations\n",
        "    self.duration = my_algo.total_computing_time\n",
        "    self.lensolution = self.solution_x\n",
        "    self.params = params\n",
        "    self.i = i\n",
        "    self.maxevals = maxevals\n",
        "    self.d = {}\n",
        "    self.j = j\n",
        "    self.path = \"\"\n",
        "\n",
        "  def create_output_file(self):\n",
        "    x = problem(self.j)\n",
        "\n",
        "    self.d['Function'] = x.getProblemName()\n",
        "    self.d['Problem dimension'] = self.lensolution\n",
        "    self.d['Global Optimum'] = x.getOptimalFitness()\n",
        "    self.d['Algorithm'] = self.algorithm_name\n",
        "    self.d['Parameters'] = self.params\n",
        "    self.d['Fitness'] = self.fitness\n",
        "    self.d['Solution'] = self.solution_x\n",
        "    self.d['Nb of functions evaluations'] = self.n_evals\n",
        "    self.d['Computational time in seconds'] = self.duration\n",
        "    self.d['Stopping criterion in evaluations'] = self.maxevals\n",
        "\n",
        "    self.calltosave()\n",
        "\n",
        "  def calltosave(self):\n",
        "    try:\n",
        "      self.x = problem(self.j)\n",
        "      filename = output_path\n",
        "      filename2 = self.x.getProblemName()\n",
        "      self.path = os.path.join(filename, filename2)\n",
        "      Path(self.path).mkdir(parents=True, exist_ok=True)     \n",
        "    except:\n",
        "      pass\n",
        "\n",
        "    try:\n",
        "      with open(\"%s/run_%s.txt\" %(self.path, self.i), 'w', encoding='utf-8') as f:\n",
        "        f.write(\"\"+self.i+\"° run output:\\n\")\n",
        "        json.dump(self.d, f, indent=4, separators=(',',': '))\n",
        "      f.close()\n",
        "    except Exception as e:\n",
        "      print(e)\n",
        "\n",
        "  def saveTS_output(self, operator, counter, resultLogs):\n",
        "    try:\n",
        "      with open(\"%s/TS-E_RUN_%s.txt\" %(self.path, self.i), 'w', encoding='utf-8') as f:\n",
        "        f.write(\"\"+self.i+\"° run output:\\n\")\n",
        "        f.write(\"Result Logs:\"+operator+\"\\n\")\n",
        "        f.write(\"operator logs:\"+operator+\"\\n\")\n",
        "      f.close()\n",
        "    except Exception as e:\n",
        "      print(e)\n",
        "      pass\n",
        "    except Exception as e:\n",
        "      print(e)\n",
        "  \n",
        "  def outputFitness(self, fitness, i):\n",
        "    try:\n",
        "      with open(\"%s/fitnessOutput.FUN\" %(self.path), 'w', encoding='utf-8') as f:\n",
        "        f.write('\\n'.join(str(line) for line in fitness))\n",
        "      f.close()\n",
        "    except Exception as e:\n",
        "      print(e)\n",
        "\n",
        "  def getFitness(self):\n",
        "    return self.fitness\n",
        "  \n",
        "  def outputAllFitness(self, output_result, i):\n",
        "    try:\n",
        "      try:\n",
        "        if i == 0:\n",
        "          # Clean the file \n",
        "          with open(\"%s/routeOutput.VAR\" %(self.path), 'w', encoding='utf-8') as f:\n",
        "            f.close()\n",
        "      except:\n",
        "        pass\n",
        "      # Rewrite non deleting written text\n",
        "      with open(\"%s/routeOutput.VAR\" %(self.path), 'a', encoding='utf-8') as f:\n",
        "        f.write(str(output_result))\n",
        "        f.write('\\n')\n",
        "      f.close()  \n",
        "    except Exception as e:\n",
        "      print(e)\n",
        "\n",
        "  def output_fitness_CSV(self, fitness):\n",
        "    matrix = [[0] for i in range(len(fitness))]\n",
        "    for i in range(len(fitness)):\n",
        "      matrix[i][0] = fitness[i]\n",
        "\n",
        "    try:\n",
        "      with open(\"%s/fitnessOutput.csv\" %(self.path), 'w', encoding='UTF8', newline='') as f:\n",
        "        writer = csv.writer(f)\n",
        "        #writer.writerow(header)\n",
        "        for i in matrix:\n",
        "          writer.writerow(i)\n",
        "    except Exception as e:\n",
        "      print(f\"Erro: {e}\")"
      ],
      "metadata": {
        "id": "5axSs2EtmOOM"
      },
      "execution_count": null,
      "outputs": []
    },
    {
      "cell_type": "markdown",
      "source": [
        "###Plot The Output Result"
      ],
      "metadata": {
        "id": "XQioF1enmWYL"
      }
    },
    {
      "cell_type": "code",
      "source": [
        "#Last Element Output\n",
        "class lastOutput():\n",
        "  def __init__(self, fitness_log, result, run):\n",
        "        self.fitness_log = fitness_log\n",
        "        self.result = result\n",
        "        self.runs = 1\n",
        "\n",
        "  # print graph\n",
        "  def plotMap(self):\n",
        "    try:\n",
        "      plt.figure(figsize=(15,4))\n",
        "      plt.plot(self.fitness_log[::1000], color=\"red\")\n",
        "      plt.xlabel(\"evaluations (x1000)\")\n",
        "      plt.ylabel(\"fitness\")\n",
        "      plt.show()\n",
        "    except Exception as e:\n",
        "      print(f\"Error {bcolors.WARNING}{e}{bcolors.ENDC}, Could not plot the fitbness by evaluations\")\n",
        "\n",
        "  # print map\n",
        "  def printMap(self):\n",
        "    try:\n",
        "      cities_coord = problem().getCityCoord()\n",
        "      xlist = [cities_coord.iloc[i,0] for i in self.result.variables]\n",
        "      ylist = [cities_coord.iloc[i,1] for i in self.result.variables]\n",
        "\n",
        "      xlist.append(xlist[0])\n",
        "      ylist.append(ylist[0])\n",
        "\n",
        "      plt.figure(figsize=(20,10))\n",
        "      for idx,city in enumerate(cities_coord.values):\n",
        "        plt.scatter(city[0],city[1])\n",
        "        plt.text(city[0]-20, city[1]+40, str(idx), fontsize=10)\n",
        "\n",
        "      plt.plot(xlist, ylist, color=\"purple\",linestyle='-')\n",
        "      plt.plot(xlist, ylist, linestyle='-')\n",
        "      plt.axis('scaled')\n",
        "      plt.show()\n",
        "    except Exception as e:\n",
        "      print(f\"Error {bcolors.WARNING}{e}{bcolors.ENDC}, Could not plot the map\")\n",
        "\n",
        "  #run all functions\n",
        "  def getResults(self):\n",
        "    if __name__ == '__main__':\n",
        "      self.plotMap()\n",
        "      self.printMap()"
      ],
      "metadata": {
        "id": "nn0Yq-8nmaOE"
      },
      "execution_count": null,
      "outputs": []
    },
    {
      "cell_type": "markdown",
      "source": [
        "##Execution"
      ],
      "metadata": {
        "id": "dYSTBtJonGDi"
      }
    },
    {
      "cell_type": "markdown",
      "source": [
        "###Genectic Algorithm "
      ],
      "metadata": {
        "id": "rsdPjqzwnJjK"
      }
    },
    {
      "cell_type": "code",
      "source": [
        "class TSP():\n",
        "  def __init__(self, maxgenerations, popsize, offspring, mut_prob, cross_prob, runs):\n",
        "    # genetic algorithm params\n",
        "    self.maxgenerations = maxgenerations\n",
        "    self.popsize = popsize\n",
        "    self.offspring = offspring\n",
        "    self.mut_prob = 0\n",
        "    self.cross_prob = cross_prob\n",
        "    self.run = runs\n",
        "    # log params\n",
        "    self.fitness_log = []\n",
        "    self.fitness = []\n",
        "    # function to auto start executions\n",
        "    self.start()\n",
        "\n",
        "  def start(self):\n",
        "    for self.j in os.listdir(instances_path):\n",
        "      try:\n",
        "        if self.j[-4:] == \".tsp\":\n",
        "          print(f\"{bcolors.WARNING}\\nNow Running: {self.j[:-4]}{bcolors.ENDC}\\n\")\n",
        "          for self.i in range(self.run):\n",
        "            print(f\"{bcolors.OKGREEN}\\nrun {self.i+1}{bcolors.ENDC}\")\n",
        "            self.execute()\n",
        "          print(\"\\n\")\n",
        "          print(f\"{bcolors.LightBl}-{bcolors.ENDC}\"*40)\n",
        "          self.x.outputFitness(self.fitness, self.i)\n",
        "          self.x.output_fitness_CSV(self.fitness)\n",
        "          self.fitness.clear()\n",
        "          #self.output() ##~~ Don't plot the map ~~##  \n",
        "      except Exception as e: \n",
        "        print(f\"Error {bcolors.WARNING}{e}{bcolors.ENDC}, Moving to next instance\")       \n",
        "    \n",
        "  def execute(self):\n",
        "    problemInfo = problem(self.j)\n",
        "    mut_prob = 1/problemInfo.getDimensions()\n",
        "\n",
        "    # AG algorithm\n",
        "    algorithm = GeneticAlgorithm(\n",
        "      problem = problemInfo.myProblem(self.fitness_log),\n",
        "      population_size = self.popsize,\n",
        "      offspring_population_size = self.offspring,\n",
        "      mutation = [\n",
        "          ScrambleMutation(mut_prob), \n",
        "          PermutationSwapMutation(mut_prob)\n",
        "      ], \n",
        "      crossover = [\n",
        "          PMXCrossover(self.cross_prob), \n",
        "          CXCrossover(self.cross_prob)\n",
        "      ],\n",
        "      selection = RouletteWheelSelection(),\n",
        "      termination_criterion = termination_criterion.StoppingByEvaluations(max_evaluations=self.maxgenerations),\n",
        "    ) \n",
        "\n",
        "    params = {\n",
        "              'population': self.popsize, \n",
        "  \t          'offspring': self.offspring, \n",
        "\t            'mutation probability': mut_prob, \n",
        "\t\t          'crossover probability': self.cross_prob,\n",
        "  \t\t  }\n",
        "\n",
        "    # Call GeneticAlgorithm and execute it #\n",
        "    algorithm.observable.register(ProgressBarObserver(max=self.maxgenerations))\n",
        "    algorithm.run()\n",
        "    \n",
        "    self.result = algorithm.get_result()\n",
        "    \n",
        "    self.x = outputFile(algorithm, self.result, self.fitness_log, params, str(self.i+1), self.maxgenerations, self.j)\n",
        "    self.x.create_output_file()\n",
        "    self.fitness.append(self.x.getFitness())\n",
        "    self.x.outputAllFitness(self.result.variables, self.i)\n",
        "\n",
        "    #print(algorithm.get_TS_result())\n",
        "\n",
        "  def output(self):    \n",
        "    call = lastOutput(self.fitness_log, self.result, self.run)\n",
        "    call.plotMap()\n",
        "    call.printMap()\n",
        "                                                                                "
      ],
      "metadata": {
        "id": "zbXXiinsnOBi"
      },
      "execution_count": null,
      "outputs": []
    },
    {
      "cell_type": "markdown",
      "source": [
        "#Run Algorithm"
      ],
      "metadata": {
        "id": "tC8oqX2bnOat"
      }
    },
    {
      "cell_type": "code",
      "source": [
        "if __name__ == '__main__':\n",
        "  # Call TSP Execution \n",
        "  TSP(\n",
        "    maxgenerations = 5000,\n",
        "    popsize = 30, \n",
        "    offspring = 30,\n",
        "    mut_prob = 0, \n",
        "    cross_prob = 0.9,\n",
        "    runs = 30\n",
        "  )\n",
        "\n",
        "  '''\n",
        "    qual par de operadores para cada filho\n",
        "    contador de pares\n",
        "  '''"
      ],
      "metadata": {
        "id": "nmDVx0BCnQVK"
      },
      "execution_count": null,
      "outputs": []
    }
  ]
}
